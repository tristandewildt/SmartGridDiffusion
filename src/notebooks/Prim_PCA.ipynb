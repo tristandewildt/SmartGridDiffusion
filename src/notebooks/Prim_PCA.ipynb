{
 "metadata": {
  "name": ""
 },
 "nbformat": 3,
 "nbformat_minor": 0,
 "worksheets": [
  {
   "cells": [
    {
     "cell_type": "code",
     "collapsed": false,
     "input": [
      "from __future__ import division\n",
      "import numpy as np\n",
      "import matplotlib.pyplot as plt\n"
     ],
     "language": "python",
     "metadata": {},
     "outputs": [],
     "prompt_number": 1
    },
    {
     "cell_type": "code",
     "collapsed": false,
     "input": [
      "from expWorkbench import ema_logging, load_results, EMAError\n",
      "\n",
      "ema_logging.log_to_stderr(level=ema_logging.INFO)\n",
      "\n",
      "#load the data\n",
      "experiments, outcomes = load_results(r'./Data/1000_runs_neoclassical_rational.bz2')"
     ],
     "language": "python",
     "metadata": {},
     "outputs": [],
     "prompt_number": 2
    },
    {
     "cell_type": "code",
     "collapsed": false,
     "input": [
      "from analysis import prim"
     ],
     "language": "python",
     "metadata": {},
     "outputs": [],
     "prompt_number": 3
    },
    {
     "cell_type": "code",
     "collapsed": false,
     "input": [
      " def copper_crises_rule(outcomes):\n",
      "        '''\n",
      "        classify results into crises or not\n",
      "        \n",
      "        rule is change in real copper price larger than factor 2\n",
      "        '''\n",
      "        outcome = outcomes['percentage_of_households_owning_ISG_app']\n",
      "        change = np.abs(outcome[:, 1::]/outcome[:, 0:-1])\n",
      "        classes = np.zeros(outcome.shape[0])\n",
      "        classes[np.max(change, axis=1)>2] = 1\n",
      "        return classes"
     ],
     "language": "python",
     "metadata": {},
     "outputs": [],
     "prompt_number": 4
    },
    {
     "cell_type": "code",
     "collapsed": false,
     "input": [],
     "language": "python",
     "metadata": {},
     "outputs": []
    }
   ],
   "metadata": {}
  }
 ]
}