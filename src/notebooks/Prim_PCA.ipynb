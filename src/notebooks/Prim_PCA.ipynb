{
 "metadata": {
  "name": ""
 },
 "nbformat": 3,
 "nbformat_minor": 0,
 "worksheets": [
  {
   "cells": [
    {
     "cell_type": "code",
     "collapsed": false,
     "input": [
      "from __future__ import division\n",
      "import numpy as np\n",
      "import matplotlib.pyplot as plt\n"
     ],
     "language": "python",
     "metadata": {},
     "outputs": [],
     "prompt_number": 1
    },
    {
     "cell_type": "code",
     "collapsed": false,
     "input": [
      "from expWorkbench import load_results, ema_logging, EMAError"
     ],
     "language": "python",
     "metadata": {},
     "outputs": [],
     "prompt_number": 4
    },
    {
     "cell_type": "code",
     "collapsed": false,
     "input": [
      "from analysis import prim\n"
     ],
     "language": "python",
     "metadata": {},
     "outputs": []
    },
    {
     "cell_type": "code",
     "collapsed": false,
     "input": [
      "if __name__ =='__main__':\n",
      "    ema_logging.log_to_stderr(ema_logging.INFO)\n",
      "    \n",
      "    ooi = \"percentage_of_households_owning_ISG_app\"\n",
      "    def classify(data):\n",
      "        data = data[ooi]\n",
      "        data = data[:,50]\n",
      "        classes = np.zeros(data.shape)\n",
      "        classes[data<10] = 1\n",
      "        return classes"
     ],
     "language": "python",
     "metadata": {},
     "outputs": []
    },
    {
     "cell_type": "code",
     "collapsed": false,
     "input": [
      "    subsets = {'Preferred_information':['A_S_L_preferred_information_source_innovator_1',\n",
      "                                     'A_S_L_preferred_information_source_early_adopter_1',\n",
      "                                     'A_S_L_preferred_information_source_early_adopter_2',\n",
      "                                     'A_S_L_preferred_information_source_early_majority_1',\n",
      "                                     'A_S_L_preferred_information_source_early_majority_2',\n",
      "                                     'A_S_L_preferred_information_source_early_majority_3',\n",
      "                                     'A_S_L_preferred_information_source_late_majority_1',\n",
      "                                     'A_S_L_preferred_information_source_late_majority_2',\n",
      "                                     'A_S_L_preferred_information_source_late_majority_3',\n",
      "                                     'A_S_L_preferred_information_source_late_majority_4',\n",
      "                                     'A_S_L_preferred_information_source_late_majority_5',\n",
      "                                     'A_S_L_preferred_information_source_laggard_2',\n",
      "                                     'A_S_L_preferred_information_source_laggard_3',\n",
      "                                     'A_S_L_preferred_information_source_laggard_4',\n",
      "                                     'A_S_L_preferred_information_source_laggard_5'],\n",
      "                        'Percentage_of_information_needed':['A_S_L_percentage_of_information_needed_2',\n",
      "                                                  'A_S_L_percentage_of_information_needed_3',\n",
      "                                                  'A_S_L_percentage_of_information_needed_4',\n",
      "                                                  'A_S_L_percentage_of_information_needed_5'],\n",
      "                        'Awareness_threshold':['A_S_L_awareness_threshold_1',\n",
      "                                  'A_S_L_awareness_threshold_2',\n",
      "                                  'A_S_L_awareness_threshold_3',\n",
      "                                  'A_S_L_awareness_threshold_4',\n",
      "                                  'A_S_L_awareness_threshold_5']}"
     ],
     "language": "python",
     "metadata": {},
     "outputs": []
    },
    {
     "cell_type": "code",
     "collapsed": false,
     "input": [
      "    results = load_results(r'../Data/1000_runs_neoclassical_rational.bz2')\n",
      "\n",
      "    prim_obj = prim.Prim(results, classify, threshold=0.8)\n",
      "    prim_obj.perform_pca(subsets)\n",
      "    \n",
      "    box1 = prim_obj.find_box()"
     ],
     "language": "python",
     "metadata": {},
     "outputs": []
    }
   ],
   "metadata": {}
  }
 ]
}